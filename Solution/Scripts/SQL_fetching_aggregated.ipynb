{
 "cells": [
  {
   "cell_type": "code",
   "execution_count": 28,
   "metadata": {},
   "outputs": [],
   "source": [
    "import pandas as pd\n",
    "#from tabulate import tabulate "
   ]
  },
  {
   "cell_type": "code",
   "execution_count": 29,
   "metadata": {},
   "outputs": [
    {
     "name": "stdout",
     "output_type": "stream",
     "text": [
      "aggregated_metrics.sql\ttotal_sales_day.sql\n",
      "outliers.sql\t\ttotal_sales_product.sql\n"
     ]
    }
   ],
   "source": [
    "!ls work/scripts/SQL/"
   ]
  },
  {
   "cell_type": "code",
   "execution_count": 30,
   "metadata": {},
   "outputs": [],
   "source": [
    "import sqlite3\n",
    "import os\n",
    "\n",
    "# Path to DB SQLite with the shared volumne of docker\n",
    "db_path = \"/home/jovyan/work/data/sales_dashboard.db\"\n",
    "\n",
    "# Path to SQL Querys\n",
    "sql_folder = \"./work/scripts/SQL/\"\n",
    "\n",
    "# Check SQL Folder\n",
    "if not os.path.exists(sql_folder):\n",
    "    print(f\"❌ ERROR: La carpeta {sql_folder} no existe.\")\n",
    "    exit(1)\n",
    "\n",
    "# Function to execute SQL Querys in SQLite \n",
    "def fetch_data(sql_file):\n",
    "    sql_path = os.path.join(sql_folder, sql_file)\n",
    "    \n",
    "    # Verificar si el archivo SQL existe\n",
    "    if not os.path.exists(sql_path):\n",
    "        print(f\"❌ ERROR: El archivo {sql_file} no existe en {sql_folder}\")\n",
    "        return None\n",
    "\n",
    "    with open(sql_path, \"r\") as file:\n",
    "        query = file.read()\n",
    "\n",
    "    conn = sqlite3.connect(db_path)\n",
    "    df_query = pd.read_sql(query, conn)\n",
    "    conn.close()\n",
    "    \n",
    "    return df_query"
   ]
  },
  {
   "cell_type": "code",
   "execution_count": 31,
   "metadata": {},
   "outputs": [
    {
     "name": "stdout",
     "output_type": "stream",
     "text": [
      "\n",
      "Resultados de total_sales_product.sql:\n",
      "\n",
      "     product  total_sales\n",
      "0  Gadget-Y   899.549984\n",
      "1  Gadget-X   739.629990\n",
      "2  Widget-C   299.699989\n",
      "3  Widget-B   289.709995\n",
      "4  Widget-A   269.729990\n",
      "5      None    99.949997\n",
      "6  Doodad-2    89.819996\n",
      "7  Doodad-3    44.909998\n",
      "8  Doodad-1    39.919998\n"
     ]
    }
   ],
   "source": [
    "#  Total Sales per Product\n",
    "df_result_1 = fetch_data(\"total_sales_product.sql\")\n",
    "print(f\"\\nResultados de total_sales_product.sql:\\n\\n\", df_result_1)"
   ]
  },
  {
   "cell_type": "code",
   "execution_count": 32,
   "metadata": {},
   "outputs": [
    {
     "name": "stdout",
     "output_type": "stream",
     "text": [
      "\n",
      "Resultados de total_sales_day.sql:\n",
      "\n",
      "           date  total_sales\n",
      "0   2024-07-01   199.849991\n",
      "1   2024-07-02    69.930000\n",
      "2   2024-07-03   189.889997\n",
      "3   2024-07-04    39.939999\n",
      "4   2024-07-05   119.910000\n",
      "5   2024-07-06   104.939997\n",
      "6   2024-07-07   159.879997\n",
      "7   2024-07-08    39.949999\n",
      "8   2024-07-09    49.949997\n",
      "9   2024-07-10   159.889992\n",
      "10  2024-07-11    74.909998\n",
      "11  2024-07-12   189.900003\n",
      "12  2024-07-13   109.929996\n",
      "13  2024-07-14    19.959999\n",
      "14  2024-07-15   169.899992\n",
      "15  2024-07-16   104.939997\n",
      "16  2024-07-17    89.899998\n",
      "17  2024-07-18   159.900002\n",
      "18  2024-07-19    54.949999\n",
      "19  2024-07-20    49.949997\n",
      "20  2024-07-21   169.899992\n",
      "21  2024-07-22   129.920002\n",
      "22  2024-07-23    84.900000\n",
      "23  2024-07-24    49.949997\n",
      "24  2024-07-25   179.879997\n"
     ]
    }
   ],
   "source": [
    "#  Total Sales per Day\n",
    "df_result_2 = fetch_data(\"total_sales_day.sql\")\n",
    "print(f\"\\nResultados de total_sales_day.sql:\\n\\n\", df_result_2)"
   ]
  },
  {
   "cell_type": "code",
   "execution_count": 33,
   "metadata": {},
   "outputs": [
    {
     "name": "stdout",
     "output_type": "stream",
     "text": [
      "\n",
      "Resultados de aggregated_metrics.sql:\n",
      "\n",
      "   category   product  avg_price  total_revenue day_of_week\n",
      "0   Gadget  Gadget-X      19.99    1739.129971      Friday\n",
      "1   Gadget  Gadget-Y      19.99    1739.129971      Friday\n",
      "2   Gadget      None      19.99    1739.129971      Friday\n",
      "3   Doodad  Doodad-1       4.99     174.649992    Thursday\n",
      "4   Doodad  Doodad-3       4.99     174.649992    Thursday\n",
      "5   Doodad  Doodad-2       4.99     174.649992    Thursday\n",
      "6   Widget  Widget-C       9.99     859.139975      Monday\n",
      "7   Widget  Widget-B       9.99     859.139975      Monday\n",
      "8   Widget  Widget-A       9.99     859.139975      Monday\n"
     ]
    }
   ],
   "source": [
    "\n",
    "# Aggregated Metrics per Category\n",
    "df_result_3 = fetch_data(\"aggregated_metrics.sql\")\n",
    "print(f\"\\nResultados de aggregated_metrics.sql:\\n\\n\", df_result_3)"
   ]
  },
  {
   "cell_type": "code",
   "execution_count": 34,
   "metadata": {},
   "outputs": [
    {
     "name": "stdout",
     "output_type": "stream",
     "text": [
      "\n",
      "Resultados de outliers.sql:\n",
      "\n",
      "     transaction_id category   product  quantity  price  total_sales  \\\n",
      "0                1   Widget  Widget-A        10   9.99    99.899994   \n",
      "1                2   Gadget  Gadget-X         5  19.99    99.949997   \n",
      "2                3   Widget  Widget-B         7   9.99    69.930000   \n",
      "3                4   Doodad  Doodad-1         0   4.99     0.000000   \n",
      "4                5   Widget  Widget-C         3   9.99    29.969999   \n",
      "5                6   Gadget  Gadget-Y         8  19.99   159.919998   \n",
      "6                7   Widget  Widget-A         2   9.99    19.980000   \n",
      "7                8   Doodad  Doodad-2         4   4.99    19.959999   \n",
      "8                9   Widget  Widget-B         6   9.99    59.939999   \n",
      "9               10   Gadget  Gadget-X         3  19.99    59.970001   \n",
      "10              11   Gadget      None         5  19.99    99.949997   \n",
      "11              12   Doodad  Doodad-3         1   4.99     4.990000   \n",
      "12              13   Widget  Widget-C         8   9.99    79.919998   \n",
      "13              14   Gadget  Gadget-Y         4  19.99    79.959999   \n",
      "14              15   Widget  Widget-A         3   9.99    29.969999   \n",
      "15              16   Doodad  Doodad-1         2   4.99     9.980000   \n",
      "16              17   Gadget  Gadget-X         0  19.99     0.000000   \n",
      "17              18   Widget  Widget-B         5   9.99    49.949997   \n",
      "18              19   Doodad  Doodad-2         4   4.99    19.959999   \n",
      "19              20   Gadget  Gadget-Y         7  19.99   139.929993   \n",
      "20              21   Widget  Widget-C         6   9.99    59.939999   \n",
      "21              22   Doodad  Doodad-3         3   4.99    14.969999   \n",
      "22              23   Gadget  Gadget-X         9  19.99   179.910004   \n",
      "23              24   Widget  Widget-A         1   9.99     9.990000   \n",
      "24              25   Doodad  Doodad-1         2   4.99     9.980000   \n",
      "25              26   Gadget  Gadget-Y         5  19.99    99.949997   \n",
      "26              27   Widget  Widget-B         0   9.99     0.000000   \n",
      "27              28   Doodad  Doodad-2         4   4.99    19.959999   \n",
      "28              29   Gadget  Gadget-X         7  19.99   139.929993   \n",
      "29              30   Widget  Widget-C         3   9.99    29.969999   \n",
      "30              31   Doodad  Doodad-3         1   4.99     4.990000   \n",
      "31              32   Gadget  Gadget-Y         5  19.99    99.949997   \n",
      "32              33   Widget  Widget-A         8   9.99    79.919998   \n",
      "33              34   Doodad  Doodad-1         2   4.99     9.980000   \n",
      "34              35   Gadget  Gadget-X         6  19.99   119.940002   \n",
      "35              36   Widget  Widget-B         4   9.99    39.959999   \n",
      "36              37   Doodad  Doodad-2         3   4.99    14.969999   \n",
      "37              38   Gadget  Gadget-Y         2  19.99    39.980000   \n",
      "38              39   Widget  Widget-C         5   9.99    49.949997   \n",
      "39              40   Doodad  Doodad-3         0   4.99     0.000000   \n",
      "40              41   Gadget  Gadget-X         7  19.99   139.929993   \n",
      "41              42   Widget  Widget-A         3   9.99    29.969999   \n",
      "42              43   Doodad  Doodad-1         2   4.99     9.980000   \n",
      "43              44   Gadget  Gadget-Y         6  19.99   119.940002   \n",
      "44              45   Widget  Widget-B         7   9.99    69.930000   \n",
      "45              46   Doodad  Doodad-2         3   4.99    14.969999   \n",
      "46              47   Gadget  Gadget-X         0  19.99     0.000000   \n",
      "47              48   Widget  Widget-C         5   9.99    49.949997   \n",
      "48              49   Doodad  Doodad-3         4   4.99    19.959999   \n",
      "49              50   Gadget  Gadget-Y         8  19.99   159.919998   \n",
      "\n",
      "    outlier_flag  \n",
      "0              0  \n",
      "1              0  \n",
      "2              0  \n",
      "3              0  \n",
      "4              0  \n",
      "5              0  \n",
      "6              0  \n",
      "7              0  \n",
      "8              0  \n",
      "9              0  \n",
      "10             0  \n",
      "11             0  \n",
      "12             0  \n",
      "13             0  \n",
      "14             0  \n",
      "15             0  \n",
      "16             0  \n",
      "17             0  \n",
      "18             0  \n",
      "19             0  \n",
      "20             0  \n",
      "21             0  \n",
      "22             0  \n",
      "23             0  \n",
      "24             0  \n",
      "25             0  \n",
      "26             0  \n",
      "27             0  \n",
      "28             0  \n",
      "29             0  \n",
      "30             0  \n",
      "31             0  \n",
      "32             0  \n",
      "33             0  \n",
      "34             0  \n",
      "35             0  \n",
      "36             0  \n",
      "37             0  \n",
      "38             0  \n",
      "39             0  \n",
      "40             0  \n",
      "41             0  \n",
      "42             0  \n",
      "43             0  \n",
      "44             0  \n",
      "45             0  \n",
      "46             0  \n",
      "47             0  \n",
      "48             0  \n",
      "49             0  \n"
     ]
    }
   ],
   "source": [
    "# Outlier Transactions\n",
    "df_result_4 = fetch_data(\"outliers.sql\")\n",
    "print(f\"\\nResultados de outliers.sql:\\n\\n\", df_result_4)"
   ]
  }
 ],
 "metadata": {
  "kernelspec": {
   "display_name": "Python 3 (ipykernel)",
   "language": "python",
   "name": "python3"
  },
  "language_info": {
   "codemirror_mode": {
    "name": "ipython",
    "version": 3
   },
   "file_extension": ".py",
   "mimetype": "text/x-python",
   "name": "python",
   "nbconvert_exporter": "python",
   "pygments_lexer": "ipython3",
   "version": "3.11.6"
  }
 },
 "nbformat": 4,
 "nbformat_minor": 2
}
